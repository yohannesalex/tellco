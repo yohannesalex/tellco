{
 "cells": [
  {
   "cell_type": "markdown",
   "id": "afa17755",
   "metadata": {},
   "source": [
    "## User Experience Analytics"
   ]
  },
  {
   "cell_type": "markdown",
   "id": "3e63b40e",
   "metadata": {},
   "source": [
    "### Import Liberaries"
   ]
  },
  {
   "cell_type": "code",
   "execution_count": 1,
   "id": "486c2b6a",
   "metadata": {},
   "outputs": [],
   "source": [
    "import pickle\n",
    "import numpy as np\n",
    "import pandas as pd\n",
    "from math import floor\n",
    "import plotly.express as px\n",
    "import plotly.graph_objects as go\n",
    "from plotly.subplots import make_subplots\n",
    "from scipy.stats import zscore\n",
    "from sklearn import metrics\n",
    "from sklearn.cluster import KMeans\n",
    "from sklearn.preprocessing import StandardScaler, normalize\n",
    "from scipy.spatial.distance import cdist\n",
    "import matplotlib.pyplot as plt\n",
    "import sys, os"
   ]
  },
  {
   "cell_type": "code",
   "execution_count": 2,
   "id": "0584aa4b",
   "metadata": {},
   "outputs": [],
   "source": [
    "pd.set_option('display.max_columns', None)\n",
    "pd.set_option('display.max_colwidth', None)\n",
    "pd.set_option(\"expand_frame_repr\", False)\n",
    "pd.set_option('display.float_format', '{:.2f}'.format)"
   ]
  },
  {
   "cell_type": "code",
   "execution_count": 3,
   "id": "9e92b769",
   "metadata": {},
   "outputs": [],
   "source": [
    "sys.path.append(os.path.abspath(os.path.join('../scripts')))\n",
    "from data_visualizer import *\n",
    "from data_selector import *\n",
    "from outlier_handler import OutlierHandler"
   ]
  },
  {
   "cell_type": "markdown",
   "id": "62644291",
   "metadata": {},
   "source": [
    "### Loading Data"
   ]
  },
  {
   "cell_type": "code",
   "execution_count": 4,
   "id": "f7406dbd",
   "metadata": {},
   "outputs": [
    {
     "name": "stdout",
     "output_type": "stream",
     "text": [
      "<class 'pandas.core.frame.DataFrame'>\n",
      "RangeIndex: 146887 entries, 0 to 146886\n",
      "Data columns (total 55 columns):\n",
      " #   Column                            Non-Null Count   Dtype  \n",
      "---  ------                            --------------   -----  \n",
      " 0   Unnamed: 0                        146887 non-null  int64  \n",
      " 1   Bearer Id                         146887 non-null  int64  \n",
      " 2   Start                             146887 non-null  object \n",
      " 3   Start ms                          146887 non-null  float64\n",
      " 4   End                               146887 non-null  object \n",
      " 5   End ms                            146887 non-null  float64\n",
      " 6   IMSI                              146887 non-null  int64  \n",
      " 7   MSISDN/Number                     146887 non-null  int64  \n",
      " 8   IMEI                              146887 non-null  int64  \n",
      " 9   Last Location Name                146887 non-null  object \n",
      " 10  Avg RTT DL (ms)                   146887 non-null  float64\n",
      " 11  Avg RTT UL (ms)                   146887 non-null  float64\n",
      " 12  Avg Bearer TP DL (kbps)           146887 non-null  float64\n",
      " 13  Avg Bearer TP UL (kbps)           146887 non-null  float64\n",
      " 14  TCP DL Retrans. Vol (Bytes)       146887 non-null  float64\n",
      " 15  TCP UL Retrans. Vol (Bytes)       146887 non-null  float64\n",
      " 16  DL TP < 50 Kbps (%)               146887 non-null  float64\n",
      " 17  50 Kbps < DL TP < 250 Kbps (%)    146887 non-null  float64\n",
      " 18  250 Kbps < DL TP < 1 Mbps (%)     146887 non-null  float64\n",
      " 19  DL TP > 1 Mbps (%)                146887 non-null  float64\n",
      " 20  UL TP < 10 Kbps (%)               146887 non-null  float64\n",
      " 21  10 Kbps < UL TP < 50 Kbps (%)     146887 non-null  float64\n",
      " 22  50 Kbps < UL TP < 300 Kbps (%)    146887 non-null  float64\n",
      " 23  UL TP > 300 Kbps (%)              146887 non-null  float64\n",
      " 24  Activity Duration DL (ms)         146887 non-null  float64\n",
      " 25  Activity Duration UL (ms)         146887 non-null  float64\n",
      " 26  Dur. (ms).1                       146887 non-null  float64\n",
      " 27  Handset Manufacturer              146887 non-null  object \n",
      " 28  Handset Type                      146887 non-null  object \n",
      " 29  Nb of sec with Vol DL < 6250B     146887 non-null  float64\n",
      " 30  Nb of sec with Vol UL < 1250B     146887 non-null  float64\n",
      " 31  Social Media DL (Bytes)           146887 non-null  float64\n",
      " 32  Social Media UL (Bytes)           146887 non-null  float64\n",
      " 33  Google DL (Bytes)                 146887 non-null  float64\n",
      " 34  Google UL (Bytes)                 146887 non-null  float64\n",
      " 35  Email DL (Bytes)                  146887 non-null  float64\n",
      " 36  Email UL (Bytes)                  146887 non-null  float64\n",
      " 37  Youtube DL (Bytes)                146887 non-null  float64\n",
      " 38  Youtube UL (Bytes)                146887 non-null  float64\n",
      " 39  Netflix DL (Bytes)                146887 non-null  float64\n",
      " 40  Netflix UL (Bytes)                146887 non-null  float64\n",
      " 41  Gaming DL (Bytes)                 146887 non-null  float64\n",
      " 42  Gaming UL (Bytes)                 146887 non-null  float64\n",
      " 43  Other DL (Bytes)                  146887 non-null  float64\n",
      " 44  Other UL (Bytes)                  146887 non-null  float64\n",
      " 45  Total UL (Bytes)                  146887 non-null  float64\n",
      " 46  Total DL (Bytes)                  146887 non-null  float64\n",
      " 47  Social Media Data Volume (Bytes)  146887 non-null  float64\n",
      " 48  Google Data Volume (Bytes)        146887 non-null  float64\n",
      " 49  Email Data Volume (Bytes)         146887 non-null  float64\n",
      " 50  Youtube Data Volume (Bytes)       146887 non-null  float64\n",
      " 51  Netflix Data Volume (Bytes)       146887 non-null  float64\n",
      " 52  Gaming Data Volume (Bytes)        146887 non-null  float64\n",
      " 53  Other Data Volume (Bytes)         146887 non-null  float64\n",
      " 54  Total Data Volume (Bytes)         146887 non-null  float64\n",
      "dtypes: float64(45), int64(5), object(5)\n",
      "memory usage: 61.6+ MB\n"
     ]
    }
   ],
   "source": [
    "df1 = pd.read_csv(\"../data/my_clean_data.csv\")\n",
    "df1.info()"
   ]
  },
  {
   "cell_type": "markdown",
   "id": "549d0d87",
   "metadata": {},
   "source": [
    "1. Aggregate, per customer, the following information (treat missing & outliers by replacing by the mean or the mode of the corresponding variable):\n",
    "-\tAverage TCP retransmission\n",
    "-\tAverage RTT\n",
    "-\tHandset type\n",
    "-\tAverage throughput\n"
   ]
  },
  {
   "cell_type": "code",
   "execution_count": 5,
   "id": "3896eaed",
   "metadata": {},
   "outputs": [],
   "source": [
    "user_experience = df1[[\n",
    "    \"MSISDN/Number\",\n",
    "    \"Avg RTT DL (ms)\",\n",
    "    \"Avg RTT UL (ms)\",\n",
    "    \"Avg Bearer TP DL (kbps)\",\n",
    "    \"Avg Bearer TP UL (kbps)\",\n",
    "    \"TCP DL Retrans. Vol (Bytes)\",\n",
    "    \"TCP UL Retrans. Vol (Bytes)\",\n",
    "    \"Handset Type\"]].copy()"
   ]
  },
  {
   "cell_type": "code",
   "execution_count": 6,
   "id": "61dd5034",
   "metadata": {},
   "outputs": [
    {
     "name": "stdout",
     "output_type": "stream",
     "text": [
      "<class 'pandas.core.frame.DataFrame'>\n",
      "RangeIndex: 146887 entries, 0 to 146886\n",
      "Data columns (total 11 columns):\n",
      " #   Column                       Non-Null Count   Dtype  \n",
      "---  ------                       --------------   -----  \n",
      " 0   MSISDN/Number                146887 non-null  int64  \n",
      " 1   Avg RTT DL (ms)              146887 non-null  float64\n",
      " 2   Avg RTT UL (ms)              146887 non-null  float64\n",
      " 3   Avg Bearer TP DL (kbps)      146887 non-null  float64\n",
      " 4   Avg Bearer TP UL (kbps)      146887 non-null  float64\n",
      " 5   TCP DL Retrans. Vol (Bytes)  146887 non-null  float64\n",
      " 6   TCP UL Retrans. Vol (Bytes)  146887 non-null  float64\n",
      " 7   Handset Type                 146887 non-null  object \n",
      " 8   total_avg_rtt                146887 non-null  float64\n",
      " 9   total_avg_tp                 146887 non-null  float64\n",
      " 10  total_avg_tcp                146887 non-null  float64\n",
      "dtypes: float64(9), int64(1), object(1)\n",
      "memory usage: 12.3+ MB\n"
     ]
    }
   ],
   "source": [
    "user_experience['total_avg_rtt'] = user_experience['Avg RTT DL (ms)'] + user_experience['Avg RTT UL (ms)']\n",
    "user_experience['total_avg_tp'] = user_experience['Avg Bearer TP DL (kbps)'] + user_experience['Avg Bearer TP UL (kbps)']\n",
    "user_experience['total_avg_tcp'] = user_experience['TCP DL Retrans. Vol (Bytes)'] + user_experience['TCP UL Retrans. Vol (Bytes)']\n",
    "user_experience.info()"
   ]
  },
  {
   "cell_type": "code",
   "execution_count": 7,
   "id": "107f48ca",
   "metadata": {},
   "outputs": [
    {
     "data": {
      "text/html": [
       "<div>\n",
       "<style scoped>\n",
       "    .dataframe tbody tr th:only-of-type {\n",
       "        vertical-align: middle;\n",
       "    }\n",
       "\n",
       "    .dataframe tbody tr th {\n",
       "        vertical-align: top;\n",
       "    }\n",
       "\n",
       "    .dataframe thead th {\n",
       "        text-align: right;\n",
       "    }\n",
       "</style>\n",
       "<table border=\"1\" class=\"dataframe\">\n",
       "  <thead>\n",
       "    <tr style=\"text-align: right;\">\n",
       "      <th></th>\n",
       "      <th>MSISDN/Number</th>\n",
       "      <th>Avg RTT DL (ms)</th>\n",
       "      <th>Avg RTT UL (ms)</th>\n",
       "      <th>Avg Bearer TP DL (kbps)</th>\n",
       "      <th>Avg Bearer TP UL (kbps)</th>\n",
       "      <th>TCP DL Retrans. Vol (Bytes)</th>\n",
       "      <th>TCP UL Retrans. Vol (Bytes)</th>\n",
       "      <th>Handset Type</th>\n",
       "      <th>total_avg_rtt</th>\n",
       "      <th>total_avg_tp</th>\n",
       "      <th>total_avg_tcp</th>\n",
       "    </tr>\n",
       "  </thead>\n",
       "  <tbody>\n",
       "    <tr>\n",
       "      <th>0</th>\n",
       "      <td>33664962239</td>\n",
       "      <td>42.00</td>\n",
       "      <td>5.00</td>\n",
       "      <td>23.00</td>\n",
       "      <td>44.00</td>\n",
       "      <td>19520.00</td>\n",
       "      <td>7230.00</td>\n",
       "      <td>Samsung Galaxy A5 Sm-A520F</td>\n",
       "      <td>47.00</td>\n",
       "      <td>67.00</td>\n",
       "      <td>26750.00</td>\n",
       "    </tr>\n",
       "    <tr>\n",
       "      <th>1</th>\n",
       "      <td>33681854413</td>\n",
       "      <td>65.00</td>\n",
       "      <td>5.00</td>\n",
       "      <td>16.00</td>\n",
       "      <td>26.00</td>\n",
       "      <td>19520.00</td>\n",
       "      <td>7230.00</td>\n",
       "      <td>Samsung Galaxy J5 (Sm-J530)</td>\n",
       "      <td>70.00</td>\n",
       "      <td>42.00</td>\n",
       "      <td>26750.00</td>\n",
       "    </tr>\n",
       "    <tr>\n",
       "      <th>2</th>\n",
       "      <td>33760627129</td>\n",
       "      <td>65.00</td>\n",
       "      <td>5.00</td>\n",
       "      <td>6.00</td>\n",
       "      <td>9.00</td>\n",
       "      <td>19520.00</td>\n",
       "      <td>7230.00</td>\n",
       "      <td>Samsung Galaxy A8 (2018)</td>\n",
       "      <td>70.00</td>\n",
       "      <td>15.00</td>\n",
       "      <td>26750.00</td>\n",
       "    </tr>\n",
       "    <tr>\n",
       "      <th>3</th>\n",
       "      <td>33750343200</td>\n",
       "      <td>65.00</td>\n",
       "      <td>5.00</td>\n",
       "      <td>44.00</td>\n",
       "      <td>44.00</td>\n",
       "      <td>19520.00</td>\n",
       "      <td>7230.00</td>\n",
       "      <td>undefined</td>\n",
       "      <td>70.00</td>\n",
       "      <td>88.00</td>\n",
       "      <td>26750.00</td>\n",
       "    </tr>\n",
       "    <tr>\n",
       "      <th>4</th>\n",
       "      <td>33699795932</td>\n",
       "      <td>65.00</td>\n",
       "      <td>5.00</td>\n",
       "      <td>6.00</td>\n",
       "      <td>9.00</td>\n",
       "      <td>19520.00</td>\n",
       "      <td>7230.00</td>\n",
       "      <td>Samsung Sm-G390F</td>\n",
       "      <td>70.00</td>\n",
       "      <td>15.00</td>\n",
       "      <td>26750.00</td>\n",
       "    </tr>\n",
       "  </tbody>\n",
       "</table>\n",
       "</div>"
      ],
      "text/plain": [
       "   MSISDN/Number  Avg RTT DL (ms)  Avg RTT UL (ms)  Avg Bearer TP DL (kbps)  Avg Bearer TP UL (kbps)  TCP DL Retrans. Vol (Bytes)  TCP UL Retrans. Vol (Bytes)                 Handset Type  total_avg_rtt  total_avg_tp  total_avg_tcp\n",
       "0    33664962239            42.00             5.00                    23.00                    44.00                     19520.00                      7230.00   Samsung Galaxy A5 Sm-A520F          47.00         67.00       26750.00\n",
       "1    33681854413            65.00             5.00                    16.00                    26.00                     19520.00                      7230.00  Samsung Galaxy J5 (Sm-J530)          70.00         42.00       26750.00\n",
       "2    33760627129            65.00             5.00                     6.00                     9.00                     19520.00                      7230.00     Samsung Galaxy A8 (2018)          70.00         15.00       26750.00\n",
       "3    33750343200            65.00             5.00                    44.00                    44.00                     19520.00                      7230.00                    undefined          70.00         88.00       26750.00\n",
       "4    33699795932            65.00             5.00                     6.00                     9.00                     19520.00                      7230.00             Samsung Sm-G390F          70.00         15.00       26750.00"
      ]
     },
     "execution_count": 7,
     "metadata": {},
     "output_type": "execute_result"
    }
   ],
   "source": [
    "user_experience.head()"
   ]
  },
  {
   "cell_type": "code",
   "execution_count": 8,
   "id": "eecca7e3",
   "metadata": {},
   "outputs": [
    {
     "data": {
      "text/html": [
       "<div>\n",
       "<style scoped>\n",
       "    .dataframe tbody tr th:only-of-type {\n",
       "        vertical-align: middle;\n",
       "    }\n",
       "\n",
       "    .dataframe tbody tr th {\n",
       "        vertical-align: top;\n",
       "    }\n",
       "\n",
       "    .dataframe thead th {\n",
       "        text-align: right;\n",
       "    }\n",
       "</style>\n",
       "<table border=\"1\" class=\"dataframe\">\n",
       "  <thead>\n",
       "    <tr style=\"text-align: right;\">\n",
       "      <th></th>\n",
       "      <th>total_avg_rtt</th>\n",
       "      <th>total_avg_tp</th>\n",
       "      <th>total_avg_tcp</th>\n",
       "      <th>Handset Type</th>\n",
       "    </tr>\n",
       "    <tr>\n",
       "      <th>MSISDN/Number</th>\n",
       "      <th></th>\n",
       "      <th></th>\n",
       "      <th></th>\n",
       "      <th></th>\n",
       "    </tr>\n",
       "  </thead>\n",
       "  <tbody>\n",
       "    <tr>\n",
       "      <th>33601001722</th>\n",
       "      <td>46.00</td>\n",
       "      <td>76.00</td>\n",
       "      <td>2895381.00</td>\n",
       "      <td>Huawei P20 Lite Huawei Nova 3E</td>\n",
       "    </tr>\n",
       "    <tr>\n",
       "      <th>33601001754</th>\n",
       "      <td>31.00</td>\n",
       "      <td>99.00</td>\n",
       "      <td>7685845.50</td>\n",
       "      <td>Apple iPhone 7 (A1778)</td>\n",
       "    </tr>\n",
       "    <tr>\n",
       "      <th>33601002511</th>\n",
       "      <td>59.00</td>\n",
       "      <td>97.00</td>\n",
       "      <td>4150403.00</td>\n",
       "      <td>undefined</td>\n",
       "    </tr>\n",
       "    <tr>\n",
       "      <th>33601007832</th>\n",
       "      <td>84.00</td>\n",
       "      <td>248.00</td>\n",
       "      <td>2396.00</td>\n",
       "      <td>Apple iPhone 5S (A1457)</td>\n",
       "    </tr>\n",
       "    <tr>\n",
       "      <th>33601008617</th>\n",
       "      <td>119.00</td>\n",
       "      <td>43204.50</td>\n",
       "      <td>8047274.50</td>\n",
       "      <td>Apple iPhone Se (A1723)</td>\n",
       "    </tr>\n",
       "  </tbody>\n",
       "</table>\n",
       "</div>"
      ],
      "text/plain": [
       "               total_avg_rtt  total_avg_tp  total_avg_tcp                    Handset Type\n",
       "MSISDN/Number                                                                            \n",
       "33601001722            46.00         76.00     2895381.00  Huawei P20 Lite Huawei Nova 3E\n",
       "33601001754            31.00         99.00     7685845.50          Apple iPhone 7 (A1778)\n",
       "33601002511            59.00         97.00     4150403.00                       undefined\n",
       "33601007832            84.00        248.00        2396.00         Apple iPhone 5S (A1457)\n",
       "33601008617           119.00      43204.50     8047274.50         Apple iPhone Se (A1723)"
      ]
     },
     "execution_count": 8,
     "metadata": {},
     "output_type": "execute_result"
    }
   ],
   "source": [
    "_user_experience = user_experience.groupby('MSISDN/Number').agg({\n",
    "    'total_avg_rtt': 'sum',\n",
    "    'total_avg_tp': 'sum',\n",
    "    'total_avg_tcp': 'sum',\n",
    "    'Handset Type': [lambda x: x.mode()[0]]})\n",
    "\n",
    "user_experience = pd.DataFrame(columns=[\n",
    "    \"total_avg_rtt\",\n",
    "    \"total_avg_tp\",\n",
    "    \"total_avg_tcp\",\n",
    "    \"Handset Type\"])\n",
    "\n",
    "user_experience[\"total_avg_rtt\"] = _user_experience[\"total_avg_rtt\"]['sum']\n",
    "user_experience[\"total_avg_tp\"] = _user_experience[\"total_avg_tp\"]['sum']\n",
    "user_experience[\"total_avg_tcp\"] = _user_experience[\"total_avg_tcp\"]['sum']\n",
    "user_experience[\"Handset Type\"] = _user_experience[\"Handset Type\"]['<lambda>']\n",
    "user_experience.head()"
   ]
  },
  {
   "cell_type": "markdown",
   "id": "18d34cb9",
   "metadata": {},
   "source": [
    "2. Compute & list 10 of the top, bottom and most frequent:\n",
    "- TCP values in the dataset. \n",
    "- RTT values in the dataset.\n",
    "- Throughput values in the dataset\n"
   ]
  },
  {
   "cell_type": "code",
   "execution_count": 9,
   "id": "fa09ff66",
   "metadata": {},
   "outputs": [],
   "source": [
    "#TCP values in the dataset.\n",
    "sorted_by_tcp = user_experience.sort_values(\n",
    "    'total_avg_tcp', ascending=False)\n",
    "top_10 = sorted_by_tcp.head(10)['total_avg_tcp']\n",
    "last_10 = sorted_by_tcp.tail(10)['total_avg_tcp']\n",
    "most_10 = user_experience['total_avg_tcp'].value_counts().head(10)\n"
   ]
  },
  {
   "cell_type": "code",
   "execution_count": 10,
   "id": "9c4f6f8a-2b3e-4f17-91e1-75c11c299a1b",
   "metadata": {},
   "outputs": [],
   "source": [
    "from IPython.display import Image\n",
    "import plotly.io as pio"
   ]
  },
  {
   "cell_type": "code",
   "execution_count": null,
   "id": "e14d4bbb",
   "metadata": {},
   "outputs": [],
   "source": [
    "mult_hist([top_10, last_10, most_10], 1,\n",
    "          3, \"TCP values in the dataset\", ['Top 10', 'Last 10', 'Most 10'])"
   ]
  },
  {
   "cell_type": "code",
   "execution_count": null,
   "id": "22f75dee",
   "metadata": {},
   "outputs": [],
   "source": []
  },
  {
   "cell_type": "code",
   "execution_count": null,
   "id": "efc988c3",
   "metadata": {},
   "outputs": [],
   "source": [
    "#RTT values in the dataset. \n",
    "sorted_by_rtt = user_experience.sort_values(\n",
    "    'total_avg_rtt', ascending=False)\n",
    "top_10 = sorted_by_rtt.head(10)['total_avg_rtt']\n",
    "last_10 = sorted_by_rtt.tail(10)['total_avg_rtt']\n",
    "most_10 = user_experience['total_avg_rtt'].value_counts().head(10)"
   ]
  },
  {
   "cell_type": "code",
   "execution_count": null,
   "id": "61259b5c",
   "metadata": {},
   "outputs": [],
   "source": [
    "\n",
    "mult_hist([top_10, last_10, most_10, top_10], 1,\n",
    "          3, \"RTT values in the dataset\", ['Top 10', 'Last 10', 'Most 10'])"
   ]
  },
  {
   "cell_type": "code",
   "execution_count": null,
   "id": "5012ff2b",
   "metadata": {},
   "outputs": [],
   "source": [
    "#Throughput values in the dataset\n",
    "sorted_by_tp = user_experience.sort_values(\n",
    "    'total_avg_tp', ascending=False)\n",
    "top_10 = sorted_by_tp.head(10)['total_avg_tp']\n",
    "last_10 = sorted_by_tp.tail(10)['total_avg_tp']\n",
    "most_10 = user_experience['total_avg_tp'].value_counts().head(10)"
   ]
  },
  {
   "cell_type": "code",
   "execution_count": null,
   "id": "96b3d103",
   "metadata": {},
   "outputs": [],
   "source": [
    "mult_hist([top_10, last_10, most_10, top_10], 1,\n",
    "          3, \"TCP values in the dataset\", ['Top 10', 'Last 10', 'Most 10'])"
   ]
  },
  {
   "cell_type": "markdown",
   "id": "cc5ac554",
   "metadata": {},
   "source": [
    "3. Compute & report:\n",
    "- The distribution of the average throughput  per handset type and provide interpretation for your findings.\n",
    "- The average TCP retransmission view per handset type and provide interpretation for your findings.\n",
    " "
   ]
  },
  {
   "cell_type": "code",
   "execution_count": null,
   "id": "c03fcbcf",
   "metadata": {},
   "outputs": [],
   "source": [
    "handset_type_df = user_experience.groupby('Handset Type').agg(\n",
    "    {'total_avg_tp': 'mean', 'total_avg_tcp': 'mean'})\n",
    "handset_type_df.head()"
   ]
  },
  {
   "cell_type": "code",
   "execution_count": null,
   "id": "127aa26c",
   "metadata": {},
   "outputs": [],
   "source": [
    "sorted_by_tp = handset_type_df.sort_values(\n",
    "    'total_avg_tp', ascending=False)\n",
    "top_tp = sorted_by_tp['total_avg_tp']"
   ]
  },
  {
   "cell_type": "code",
   "execution_count": null,
   "id": "9bfef985",
   "metadata": {},
   "outputs": [],
   "source": [
    "hist(top_tp)"
   ]
  },
  {
   "cell_type": "code",
   "execution_count": null,
   "id": "66c60907",
   "metadata": {},
   "outputs": [],
   "source": [
    "hist(top_tp.head(20))"
   ]
  },
  {
   "cell_type": "markdown",
   "id": "5e9adb89",
   "metadata": {},
   "source": [
    "- We can see modern phones have higher throughput."
   ]
  },
  {
   "cell_type": "code",
   "execution_count": null,
   "id": "52edcd1e",
   "metadata": {},
   "outputs": [],
   "source": []
  },
  {
   "cell_type": "code",
   "execution_count": null,
   "id": "6de0d393",
   "metadata": {},
   "outputs": [],
   "source": [
    "#The average TCP retransmission view per handset type and provide interpretation for your findings.\n",
    "sorted_by_tcp = handset_type_df.sort_values(\n",
    "    'total_avg_tcp', ascending=False)\n",
    "top_tcp = sorted_by_tcp['total_avg_tcp']"
   ]
  },
  {
   "cell_type": "code",
   "execution_count": null,
   "id": "a0b16256",
   "metadata": {},
   "outputs": [],
   "source": [
    "hist(top_tcp)"
   ]
  },
  {
   "cell_type": "code",
   "execution_count": null,
   "id": "d77d3f72",
   "metadata": {},
   "outputs": [],
   "source": [
    "hist(top_tcp.head(20))"
   ]
  },
  {
   "cell_type": "markdown",
   "id": "8c3e6b8d",
   "metadata": {},
   "source": [
    "4. Using the experience metrics above, perform a k-means clustering (where k = 3) to segment users into groups of experiences and provide a brief description of each cluster. (The description must define each group based on your understanding of the data)"
   ]
  },
  {
   "cell_type": "code",
   "execution_count": null,
   "id": "ac884439",
   "metadata": {},
   "outputs": [],
   "source": [
    "experiance_metric_df = user_experience[[\n",
    "    \"total_avg_rtt\",\n",
    "    \"total_avg_tp\",\n",
    "    \"total_avg_tcp\"]].copy()\n",
    "experiance_metric_df.head()"
   ]
  },
  {
   "cell_type": "code",
   "execution_count": null,
   "id": "cb1a1f43",
   "metadata": {},
   "outputs": [],
   "source": []
  },
  {
   "cell_type": "code",
   "execution_count": null,
   "id": "54c0b5d6",
   "metadata": {},
   "outputs": [],
   "source": [
    "experiance_metric_df.plot.box()"
   ]
  },
  {
   "cell_type": "code",
   "execution_count": null,
   "id": "ed05652f",
   "metadata": {},
   "outputs": [],
   "source": [
    "df_outliers = OutlierHandler(experiance_metric_df)\n",
    "df_outliers.getOverview(['total_avg_rtt','total_avg_tp','total_avg_tcp'])"
   ]
  },
  {
   "cell_type": "code",
   "execution_count": null,
   "id": "e9db60d9",
   "metadata": {},
   "outputs": [],
   "source": [
    "df_outliers.replace_outliers_with_fences(\n",
    "    [\"total_avg_rtt\",\n",
    "     \"total_avg_tp\",\n",
    "     \"total_avg_tcp\"])\n",
    "#df_outliers = DfOutlier(experiance_metric_df)\n",
    "df_outliers.getOverview([\"total_avg_rtt\",\n",
    "     \"total_avg_tp\",\n",
    "     \"total_avg_tcp\"])"
   ]
  },
  {
   "cell_type": "code",
   "execution_count": null,
   "id": "ace20d5c",
   "metadata": {},
   "outputs": [],
   "source": [
    "experiance_metric_df.plot.box()"
   ]
  },
  {
   "cell_type": "code",
   "execution_count": null,
   "id": "736c739a",
   "metadata": {},
   "outputs": [],
   "source": [
    "scaler = StandardScaler()\n",
    "scaled_array = scaler.fit_transform(df_outliers.df)\n",
    "scaled_array\n",
    "pd.DataFrame(scaled_array).head(5)"
   ]
  },
  {
   "cell_type": "code",
   "execution_count": null,
   "id": "d25b039c",
   "metadata": {},
   "outputs": [],
   "source": [
    "data_normalized = normalize(scaled_array)\n",
    "pd.DataFrame(data_normalized).head(5)"
   ]
  },
  {
   "cell_type": "code",
   "execution_count": null,
   "id": "bdf57565",
   "metadata": {},
   "outputs": [],
   "source": [
    "kmeans = KMeans(n_clusters=3, random_state=0).fit(data_normalized)\n",
    "kmeans.labels_"
   ]
  },
  {
   "cell_type": "code",
   "execution_count": null,
   "id": "c4762f08",
   "metadata": {},
   "outputs": [],
   "source": [
    "experiance_metric_df.insert(0, 'cluster', kmeans.labels_)\n",
    "experiance_metric_df"
   ]
  },
  {
   "cell_type": "code",
   "execution_count": null,
   "id": "3d463189",
   "metadata": {},
   "outputs": [],
   "source": [
    "experiance_metric_df['cluster'].value_counts()"
   ]
  },
  {
   "cell_type": "code",
   "execution_count": null,
   "id": "55698253",
   "metadata": {},
   "outputs": [],
   "source": [
    "fig = px.scatter(experiance_metric_df, x='total_avg_rtt', y=\"total_avg_tp\",\n",
    "                 color='cluster', size='total_avg_tcp')\n",
    "fig.show()"
   ]
  },
  {
   "cell_type": "code",
   "execution_count": null,
   "id": "575a8f82-e25f-479d-a79c-52c988c9ac95",
   "metadata": {},
   "outputs": [],
   "source": [
    "import plotly.graph_objects as go\n",
    "\n",
    "# Assuming experiance_metric_df is your DataFrame\n",
    "fig = go.Figure(data=[go.Scatter3d(x=experiance_metric_df['total_avg_tcp'],\n",
    "                                    y=experiance_metric_df['total_avg_rtt'],\n",
    "                                    z=experiance_metric_df['total_avg_tp'],\n",
    "                                    mode='markers',\n",
    "                                    marker=dict(color=experiance_metric_df['cluster']))])\n",
    "\n",
    "fig.update_layout(scene=dict(xaxis_title='Total Average TCP',\n",
    "                             yaxis_title='Total Average RTT',\n",
    "                             zaxis_title='Total Average TP'),\n",
    "                  width=900,  # Set the width of the plot\n",
    "                  height=800,  # Set the height of the plot\n",
    "                  title='3D Scatter Plot')\n",
    "\n",
    "fig.show()\n",
    "  "
   ]
  },
  {
   "cell_type": "code",
   "execution_count": null,
   "id": "8c7ac648",
   "metadata": {},
   "outputs": [],
   "source": [
    "# Save the final data frame\n",
    "user_experience.to_csv('../data/TellCo_user_experience_data.csv')"
   ]
  },
  {
   "cell_type": "code",
   "execution_count": null,
   "id": "446f645f",
   "metadata": {},
   "outputs": [],
   "source": [
    "with open(\"../models/TellCo_user_experiance.pkl\", \"wb\") as f:\n",
    "    pickle.dump(kmeans, f)"
   ]
  },
  {
   "cell_type": "code",
   "execution_count": null,
   "id": "65910acd",
   "metadata": {},
   "outputs": [],
   "source": []
  },
  {
   "cell_type": "code",
   "execution_count": null,
   "id": "b7d5940d-c2a5-4cca-9093-39f70567ceda",
   "metadata": {},
   "outputs": [],
   "source": []
  }
 ],
 "metadata": {
  "kernelspec": {
   "display_name": "Python 3 (ipykernel)",
   "language": "python",
   "name": "python3"
  },
  "language_info": {
   "codemirror_mode": {
    "name": "ipython",
    "version": 3
   },
   "file_extension": ".py",
   "mimetype": "text/x-python",
   "name": "python",
   "nbconvert_exporter": "python",
   "pygments_lexer": "ipython3",
   "version": "3.10.9"
  }
 },
 "nbformat": 4,
 "nbformat_minor": 5
}
